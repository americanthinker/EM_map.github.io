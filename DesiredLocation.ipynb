{
 "cells": [
  {
   "cell_type": "code",
   "execution_count": 73,
   "metadata": {},
   "outputs": [
    {
     "name": "stdout",
     "output_type": "stream",
     "text": [
      "The autoreload extension is already loaded. To reload it, use:\n",
      "  %reload_ext autoreload\n"
     ]
    }
   ],
   "source": [
    "%load_ext autoreload\n",
    "%autoreload 2\n",
    "pd.set_option('display.max_rows', 600)\n",
    "from data_processing import punc_removal as pr\n",
    "import us"
   ]
  },
  {
   "cell_type": "markdown",
   "metadata": {},
   "source": [
    "### Import data"
   ]
  },
  {
   "cell_type": "code",
   "execution_count": 2,
   "metadata": {},
   "outputs": [],
   "source": [
    "df = pd.read_csv('../cleaned_data.csv')"
   ]
  },
  {
   "cell_type": "markdown",
   "metadata": {},
   "source": [
    "### Define column of importance"
   ]
  },
  {
   "cell_type": "code",
   "execution_count": 3,
   "metadata": {},
   "outputs": [],
   "source": [
    "places = df['What_locations_do_you_WANT_to_live_in'].dropna()"
   ]
  },
  {
   "cell_type": "markdown",
   "metadata": {},
   "source": [
    "### Explode data to work with"
   ]
  },
  {
   "cell_type": "code",
   "execution_count": 15,
   "metadata": {},
   "outputs": [],
   "source": [
    "exploded_places = places.str.split(',').explode().reset_index(drop=True)"
   ]
  },
  {
   "cell_type": "markdown",
   "metadata": {},
   "source": [
    "### Remove punctuation"
   ]
  },
  {
   "cell_type": "code",
   "execution_count": 21,
   "metadata": {},
   "outputs": [],
   "source": [
    "cleaned = exploded_places.apply(pr)"
   ]
  },
  {
   "cell_type": "markdown",
   "metadata": {},
   "source": [
    "### Remove all non-location words"
   ]
  },
  {
   "cell_type": "code",
   "execution_count": 22,
   "metadata": {},
   "outputs": [],
   "source": [
    "words = pd.read_csv('data/dictionary.txt')"
   ]
  },
  {
   "cell_type": "code",
   "execution_count": 36,
   "metadata": {},
   "outputs": [],
   "source": [
    "words = set(words['a'].values)"
   ]
  },
  {
   "cell_type": "code",
   "execution_count": 56,
   "metadata": {},
   "outputs": [],
   "source": [
    "def word_removal(row):\n",
    "    temp = [word for word in row.split() if word not in words]\n",
    "    return ' '.join(temp)"
   ]
  },
  {
   "cell_type": "code",
   "execution_count": 96,
   "metadata": {},
   "outputs": [],
   "source": [
    "removed = cleaned.apply(word_removal)"
   ]
  },
  {
   "cell_type": "markdown",
   "metadata": {},
   "source": [
    "### Map State abbreviations to State names"
   ]
  },
  {
   "cell_type": "code",
   "execution_count": 137,
   "metadata": {},
   "outputs": [],
   "source": [
    "#using imported \"us\" module\n",
    "state_dict = us.states.mapping('abbr', 'name')\n",
    "def abbr_mapper(row):\n",
    "    if row in state_dict:\n",
    "        return state_dict[row]\n",
    "    else: return row"
   ]
  },
  {
   "cell_type": "code",
   "execution_count": 138,
   "metadata": {},
   "outputs": [],
   "source": [
    "states = removed.apply(abbr_mapper)"
   ]
  },
  {
   "cell_type": "markdown",
   "metadata": {},
   "source": [
    "### Now for the hard work....!"
   ]
  },
  {
   "cell_type": "code",
   "execution_count": 126,
   "metadata": {},
   "outputs": [],
   "source": [
    "locations = {}\n",
    "\n",
    "def collector(row):\n",
    "    if len(row) < 1:\n",
    "        pass\n",
    "    else:\n",
    "        if row in locations:\n",
    "            locations[row] += 1\n",
    "        else:\n",
    "            locations[row] = 1\n",
    "    return row"
   ]
  },
  {
   "cell_type": "markdown",
   "metadata": {},
   "source": [
    "- San Diego"
   ]
  },
  {
   "cell_type": "code",
   "execution_count": 128,
   "metadata": {},
   "outputs": [],
   "source": [
    "san_diego = states[states.str.contains('San Diego')].str.split('San Diego').explode().str.strip()"
   ]
  },
  {
   "cell_type": "code",
   "execution_count": 131,
   "metadata": {},
   "outputs": [],
   "source": [
    "#san_diego.apply(collector)"
   ]
  },
  {
   "cell_type": "code",
   "execution_count": 130,
   "metadata": {},
   "outputs": [
    {
     "data": {
      "text/plain": [
       "{'Southern CA': 1,\n",
       " 'Southern California LA': 1,\n",
       " 'California': 1,\n",
       " 'New York': 1,\n",
       " 'Dallas': 1,\n",
       " 'Anywhere': 1,\n",
       " 'Anywhere Southern California Ventura': 1,\n",
       " 'San Francisco': 1,\n",
       " 'Denver': 1,\n",
       " 'Greater': 1,\n",
       " 'Area Mid West': 1,\n",
       " 'West Coast': 2,\n",
       " 'Silicon Valley': 1,\n",
       " 'NC Bay Area': 1,\n",
       " 'New Orleans': 1,\n",
       " 'Moving': 1,\n",
       " 'Dec 2020': 1,\n",
       " 'Irvine': 1}"
      ]
     },
     "execution_count": 130,
     "metadata": {},
     "output_type": "execute_result"
    }
   ],
   "source": [
    "locations"
   ]
  },
  {
   "cell_type": "code",
   "execution_count": 141,
   "metadata": {},
   "outputs": [],
   "source": [
    "states[states.str.contains('San Diego')] = 'San Diego'"
   ]
  },
  {
   "cell_type": "markdown",
   "metadata": {},
   "source": [
    "- Remove all blank spaces in dataset"
   ]
  },
  {
   "cell_type": "code",
   "execution_count": 147,
   "metadata": {},
   "outputs": [],
   "source": [
    "states = states[states != '']"
   ]
  },
  {
   "cell_type": "markdown",
   "metadata": {},
   "source": [
    "- Abbreviation transformation"
   ]
  },
  {
   "cell_type": "code",
   "execution_count": 161,
   "metadata": {},
   "outputs": [],
   "source": [
    "abbr = states.str.split().explode()"
   ]
  },
  {
   "cell_type": "code",
   "execution_count": 164,
   "metadata": {},
   "outputs": [],
   "source": [
    "abbr = abbr[abbr.str.len() < 3]"
   ]
  },
  {
   "cell_type": "code",
   "execution_count": 168,
   "metadata": {},
   "outputs": [],
   "source": [
    "#abbr.apply(abbr_mapper).apply(collector)"
   ]
  },
  {
   "cell_type": "markdown",
   "metadata": {},
   "source": [
    "    - Clean out location data"
   ]
  },
  {
   "cell_type": "code",
   "execution_count": 179,
   "metadata": {},
   "outputs": [
    {
     "data": {
      "text/plain": [
       "'bad_keys = []\\nfor key, value in locations.items():\\n    if len(key) < 3:\\n        bad_keys.append(key)\\nfor key in bad_keys:\\n    locations.pop(key, None)\\n'"
      ]
     },
     "execution_count": 179,
     "metadata": {},
     "output_type": "execute_result"
    }
   ],
   "source": [
    "'''bad_keys = []\n",
    "for key, value in locations.items():\n",
    "    if len(key) < 3:\n",
    "        bad_keys.append(key)\n",
    "for key in bad_keys:\n",
    "    locations.pop(key, None)\n",
    "'''"
   ]
  },
  {
   "cell_type": "code",
   "execution_count": 195,
   "metadata": {},
   "outputs": [],
   "source": [
    "bad_index = set(abbr.index)"
   ]
  },
  {
   "cell_type": "code",
   "execution_count": 199,
   "metadata": {},
   "outputs": [
    {
     "data": {
      "text/plain": [
       "{'Southern CA': 1,\n",
       " 'Southern California LA': 1,\n",
       " 'California': 18,\n",
       " 'New York': 4,\n",
       " 'Dallas': 1,\n",
       " 'Anywhere': 1,\n",
       " 'Anywhere Southern California Ventura': 1,\n",
       " 'San Francisco': 1,\n",
       " 'Denver': 1,\n",
       " 'Greater': 1,\n",
       " 'Area Mid West': 1,\n",
       " 'West Coast': 2,\n",
       " 'Silicon Valley': 1,\n",
       " 'NC Bay Area': 1,\n",
       " 'New Orleans': 1,\n",
       " 'Moving': 1,\n",
       " 'Dec 2020': 1,\n",
       " 'Irvine': 1,\n",
       " 'Florida': 6,\n",
       " 'Utah': 1,\n",
       " 'District of Columbia': 36,\n",
       " 'Virginia': 11,\n",
       " 'Massachusetts': 3,\n",
       " 'Arizona': 1,\n",
       " 'New Hampshire': 4,\n",
       " 'New Mexico': 1,\n",
       " 'North Carolina': 17,\n",
       " 'Texas': 11,\n",
       " 'Montana': 1,\n",
       " 'Tennessee': 3,\n",
       " 'Pennsylvania': 1,\n",
       " 'Illinois': 3,\n",
       " 'Michigan': 2,\n",
       " 'Colorado': 3,\n",
       " 'Oregon': 4,\n",
       " 'Washington': 3,\n",
       " 'South Carolina': 2,\n",
       " 'Georgia': 3,\n",
       " 'Connecticut': 1,\n",
       " 'West Virginia': 1}"
      ]
     },
     "execution_count": 199,
     "metadata": {},
     "output_type": "execute_result"
    }
   ],
   "source": [
    "locations"
   ]
  },
  {
   "cell_type": "code",
   "execution_count": null,
   "metadata": {},
   "outputs": [],
   "source": []
  }
 ],
 "metadata": {
  "kernelspec": {
   "display_name": "Python 3",
   "language": "python",
   "name": "python3"
  },
  "language_info": {
   "codemirror_mode": {
    "name": "ipython",
    "version": 3
   },
   "file_extension": ".py",
   "mimetype": "text/x-python",
   "name": "python",
   "nbconvert_exporter": "python",
   "pygments_lexer": "ipython3",
   "version": "3.8.3"
  }
 },
 "nbformat": 4,
 "nbformat_minor": 4
}
